{
 "cells": [
  {
   "cell_type": "markdown",
   "metadata": {},
   "source": [
    "# Object-Oriented-Programming (OOP)"
   ]
  },
  {
   "cell_type": "markdown",
   "metadata": {},
   "source": [
    "## Tasks Today:\n",
    "\n",
    "   \n",
    "\n",
    "1) <b>Creating a Class (Initializing/Declaring)</b> <br>\n",
    "2) <b>Using a Class (Instantiating)</b> <br>\n",
    " &nbsp;&nbsp;&nbsp;&nbsp; a) Creating One Instance <br>\n",
    " &nbsp;&nbsp;&nbsp;&nbsp; b) Creating Multiple Instances <br>\n",
    " &nbsp;&nbsp;&nbsp;&nbsp; c) In-Class Exercise #1 - Create a Class 'Car' and instantiate three different makes of cars <br>\n",
    "3) <b>The \\__init\\__() Method</b> <br>\n",
    " &nbsp;&nbsp;&nbsp;&nbsp; a) The 'self' Attribute <br>\n",
    "4) <b>Class Attributes</b> <br>\n",
    " &nbsp;&nbsp;&nbsp;&nbsp; a) Initializing Attributes <br>\n",
    " &nbsp;&nbsp;&nbsp;&nbsp; b) Setting an Attribute Outside of the \\__init\\__() Method <br>\n",
    " &nbsp;&nbsp;&nbsp;&nbsp; c) Setting Defaults for Attributes <br>\n",
    " &nbsp;&nbsp;&nbsp;&nbsp; d) Accessing Class Attributes <br>\n",
    " &nbsp;&nbsp;&nbsp;&nbsp; e) Changing Class Attributes <br>\n",
    " &nbsp;&nbsp;&nbsp;&nbsp; f) In-Class Exercise #2 - Add a color and wheels attribute to your 'Car' class <br>\n",
    "5) <b>Class Methods</b> <br>\n",
    " &nbsp;&nbsp;&nbsp;&nbsp; a) Creating <br>\n",
    " &nbsp;&nbsp;&nbsp;&nbsp; b) Calling <br>\n",
    " &nbsp;&nbsp;&nbsp;&nbsp; c) Modifying an Attribute's Value Through a Method <br>\n",
    " &nbsp;&nbsp;&nbsp;&nbsp; d) Incrementing an Attribute's Value Through a Method <br>\n",
    " &nbsp;&nbsp;&nbsp;&nbsp; e) In-Class Exercise #3 - Add a method that prints the cars color and wheel number, then call them <br>\n",
    "6) <b>Inheritance</b> <br>\n",
    " &nbsp;&nbsp;&nbsp;&nbsp; a) Syntax for Inheriting from a Parent Class <br>\n",
    " &nbsp;&nbsp;&nbsp;&nbsp; b) The \\__init\\__() Method for a Child Class (super()) <br>\n",
    " &nbsp;&nbsp;&nbsp;&nbsp; c) Defining Attributes and Methods for the Child Class <br>\n",
    " &nbsp;&nbsp;&nbsp;&nbsp; d) Method Overriding <br>\n",
    " &nbsp;&nbsp;&nbsp;&nbsp; e) In-Class Exercise #4 - Create a class 'Ford' that inherits from 'Car' class and initialize it as a Blue Ford Explorer with 4 wheels using the super() method <br>\n",
    "7) <b>Classes as Attributes</b> <br>\n",
    "8) <b>Exercises</b> <br>\n",
    " &nbsp;&nbsp;&nbsp;&nbsp; a) Exercise #1 - Turn the shopping cart program from yesterday into an object-oriented program <br>"
   ]
  },
  {
   "cell_type": "markdown",
   "metadata": {},
   "source": [
    "## Creating a Class (Initializing/Declaring)\n",
    "<p>When creating a class, function, or even a variable you are initializing that object. Initializing and Declaring occur at the same time in Python, whereas in lower level languages you have to declare an object before initializing it. This is the first step in the process of using a class.</p>"
   ]
  },
  {
   "cell_type": "code",
   "execution_count": 4,
   "metadata": {},
   "outputs": [],
   "source": [
    "class Car():\n",
    "    wheels = 4\n",
    "    color = 'blue'"
   ]
  },
  {
   "cell_type": "markdown",
   "metadata": {},
   "source": [
    "## Using a Class (Instantiating)\n",
    "<p>The process of creating a class is called <i>Instantiating</i>. Each time you create a variable of that type of class, it is referred to as an <i>Instance</i> of that class. This is the second step in the process of using a class.</p>"
   ]
  },
  {
   "cell_type": "markdown",
   "metadata": {},
   "source": [
    "##### Creating One Instance"
   ]
  },
  {
   "cell_type": "code",
   "execution_count": null,
   "metadata": {},
   "outputs": [],
   "source": [
    "c1 = Car()\n",
    "c2 = Car()\n",
    "c3 = Car()\n",
    "ford = Car()\n",
    "\n",
    "\n"
   ]
  },
  {
   "cell_type": "markdown",
   "metadata": {},
   "source": [
    "##### Creating Multiple Instances"
   ]
  },
  {
   "cell_type": "code",
   "execution_count": 2,
   "metadata": {},
   "outputs": [
    {
     "ename": "NameError",
     "evalue": "name 'c1' is not defined",
     "output_type": "error",
     "traceback": [
      "\u001b[1;31m---------------------------------------------------------------------------\u001b[0m",
      "\u001b[1;31mNameError\u001b[0m                                 Traceback (most recent call last)",
      "Input \u001b[1;32mIn [2]\u001b[0m, in \u001b[0;36m<cell line: 3>\u001b[1;34m()\u001b[0m\n\u001b[0;32m      1\u001b[0m \u001b[38;5;66;03m# see above\u001b[39;00m\n\u001b[1;32m----> 3\u001b[0m \u001b[43mc1\u001b[49m\u001b[38;5;241m.\u001b[39mwheels\n\u001b[0;32m      4\u001b[0m c1\u001b[38;5;241m.\u001b[39m color\n",
      "\u001b[1;31mNameError\u001b[0m: name 'c1' is not defined"
     ]
    }
   ],
   "source": [
    "# see above\n",
    "\n",
    "c1.wheels\n",
    "c1. color"
   ]
  },
  {
   "cell_type": "markdown",
   "metadata": {},
   "source": [
    "##### In-Class Exercise #1 - Create a Class 'Car' and Instantiate three different makes of cars"
   ]
  },
  {
   "cell_type": "code",
   "execution_count": 29,
   "metadata": {},
   "outputs": [],
   "source": [
    "class Car():\n",
    "    wheels = '4'\n",
    "    model = 'pinto'\n",
    "    year = '2000' \n",
    "\n",
    "Toyota = Car()"
   ]
  },
  {
   "cell_type": "markdown",
   "metadata": {},
   "source": [
    "## The \\__init\\__() Method <br>\n",
    "<p>This method is used in almost every created class, and called only once upon the creation of the class instance. This method will initialize all variables needed for the object.</p>"
   ]
  },
  {
   "cell_type": "code",
   "execution_count": 22,
   "metadata": {},
   "outputs": [
    {
     "name": "stdout",
     "output_type": "stream",
     "text": [
      "shoha\n",
      "brandt\n",
      "shoha@.com\n",
      "True\n"
     ]
    }
   ],
   "source": [
    "class User():\n",
    "    def __init__(self ,n, age, email, address):\n",
    "        self.name = n \n",
    "        self.age = age\n",
    "        self.email = email\n",
    "        self.hello = address\n",
    "        self.isHuman = True\n",
    "    \n",
    "    def talk(self):\n",
    "        pass\n",
    "    \n",
    "    \n",
    "    \n",
    "u1 = User('shoha', 9000, 'shoha@.com', '123 real st')\n",
    "u2 = User('brandt', 9001, 'brandt@.com', '321 fake st')\n",
    "\n",
    "\n",
    "print(u1.name)\n",
    "print(u2.name)\n",
    "print(u1.email)\n",
    "print(u2.isHuman)"
   ]
  },
  {
   "cell_type": "markdown",
   "metadata": {},
   "source": [
    "##### The 'self' Attribute <br>\n",
    "<p>This attribute is required to keep track of specific instance's attributes. Without the self attribute, the program would not know how to reference or keep track of an instance's attributes.</p>"
   ]
  },
  {
   "cell_type": "code",
   "execution_count": null,
   "metadata": {},
   "outputs": [],
   "source": [
    "# see above"
   ]
  },
  {
   "cell_type": "markdown",
   "metadata": {},
   "source": [
    "## Class Attributes <br>\n",
    "<p>While variables are inside of a class, they are referred to as attributes and not variables. When someone says 'attribute' you know they're speaking about a class. Attributes can be initialized through the init method, or outside of it.</p>"
   ]
  },
  {
   "cell_type": "markdown",
   "metadata": {},
   "source": [
    "##### Initializing Attributes"
   ]
  },
  {
   "cell_type": "code",
   "execution_count": null,
   "metadata": {},
   "outputs": [],
   "source": [
    "# see above"
   ]
  },
  {
   "cell_type": "markdown",
   "metadata": {},
   "source": [
    "##### Accessing Class Attributes"
   ]
  },
  {
   "cell_type": "code",
   "execution_count": null,
   "metadata": {
    "scrolled": true
   },
   "outputs": [],
   "source": [
    "# See Above"
   ]
  },
  {
   "cell_type": "markdown",
   "metadata": {},
   "source": [
    "##### Setting Defaults for Attributes"
   ]
  },
  {
   "cell_type": "code",
   "execution_count": 28,
   "metadata": {},
   "outputs": [],
   "source": [
    "class User():\n",
    "    def __init__(self ,n, l_n, age, email, address='', bio='', isAdmin=False):\n",
    "        self.first_name = n \n",
    "        self.last_name =l_n\n",
    "        self.age = age\n",
    "        self.email = email\n",
    "        self.hello = address\n",
    "        self.isHuman = True\n",
    "        self.bio = bio\n",
    "        self.isAdmin = isAdmin\n",
    "    \n",
    "    def talk(self):\n",
    "        pass\n",
    "    \n",
    "    def updateBio(self, newBio):\n",
    "        self.bio = newBio\n",
    "    \n",
    "    def getFullName(self):\n",
    "        return f'{self.first_name} {self.last_name}'\n",
    "    \n",
    "p1 = User('evan','Lewis',9000, 'evan@evan.com', isAdmin=True)\n",
    "p1.isAdmin\n",
    "p1.getFullName()\n",
    "\n",
    "p1.updateBio('difbhdb')"
   ]
  },
  {
   "cell_type": "markdown",
   "metadata": {},
   "source": [
    "##### Changing Class Attributes <br>\n",
    "<p>Keep in mind there are global class attributes and then there are attributes only available to each class instance which won't effect other classes.</p>"
   ]
  },
  {
   "cell_type": "code",
   "execution_count": null,
   "metadata": {},
   "outputs": [],
   "source": []
  },
  {
   "cell_type": "code",
   "execution_count": null,
   "metadata": {},
   "outputs": [],
   "source": []
  },
  {
   "cell_type": "markdown",
   "metadata": {},
   "source": [
    "##### In-Class Exercise #2 - Add a doors and seats attribute to your 'Car' class then print out two different instances with different doors and seats"
   ]
  },
  {
   "cell_type": "code",
   "execution_count": 33,
   "metadata": {},
   "outputs": [
    {
     "name": "stdout",
     "output_type": "stream",
     "text": [
      "2\n",
      "5\n"
     ]
    }
   ],
   "source": [
    "class Car():\n",
    "    def __init__(self, car, seat, door):\n",
    "        self.car = car\n",
    "        self.seat = seat\n",
    "        self.door = door\n",
    "        \n",
    "honda = Car('Honda', 2,2)\n",
    "tesla = Car('Tesla Model X', 7, 5)\n",
    "\n",
    "print(honda.seat)\n",
    "print(tesla.door)"
   ]
  },
  {
   "cell_type": "markdown",
   "metadata": {},
   "source": [
    "## Class Methods <br>\n",
    "<p>While inside of a class, functions are referred to as 'methods'. If you hear someone mention methods, they're speaking about classes. Methods are essentially functions, but only callable on the instances of a class.</p>"
   ]
  },
  {
   "cell_type": "markdown",
   "metadata": {},
   "source": [
    "##### Creating"
   ]
  },
  {
   "cell_type": "code",
   "execution_count": 40,
   "metadata": {},
   "outputs": [
    {
     "name": "stdout",
     "output_type": "stream",
     "text": [
      "blah blah blah\n",
      "\n",
      "I am a student at Coding Temple\n"
     ]
    }
   ],
   "source": [
    "class User():\n",
    "    def __init__(self ,n, l_n, age, email, address='', bio='', isAdmin=False):\n",
    "        self.first_name = n \n",
    "        self.last_name =l_n\n",
    "        self.age = age\n",
    "        self.email = email\n",
    "        self.hello = address\n",
    "        self.isHuman = True\n",
    "        self.bio = bio\n",
    "        self.isAdmin = isAdmin\n",
    "    \n",
    "    def talk(self):\n",
    "        return 'blah blah blah'\n",
    "    \n",
    "    def updateBio(self, newBio):\n",
    "        self.bio = newBio\n",
    "    \n",
    "    def getFullName(self):\n",
    "        return f'{self.first_name} {self.last_name}'\n",
    "    \n",
    "    def happyBirthday(self):\n",
    "        self.age += 1\n",
    "        \n",
    "        \n",
    "        \n",
    "p1 = User('evan','Lewis',9000, 'evan@evan.com', isAdmin=True)\n",
    "\n",
    "print(p1.talk())\n",
    "print(p1.bio)\n",
    "p1.updateBio('I am a student at Coding Temple')\n",
    "print(p1.bio)"
   ]
  },
  {
   "cell_type": "markdown",
   "metadata": {},
   "source": [
    "##### Calling"
   ]
  },
  {
   "cell_type": "code",
   "execution_count": null,
   "metadata": {},
   "outputs": [],
   "source": [
    "# See Above"
   ]
  },
  {
   "cell_type": "markdown",
   "metadata": {},
   "source": [
    "##### Modifying an Attribute's Value Through a Method"
   ]
  },
  {
   "cell_type": "code",
   "execution_count": null,
   "metadata": {},
   "outputs": [],
   "source": [
    "# this is know as a setter\n",
    "# see the updateBio method above"
   ]
  },
  {
   "cell_type": "markdown",
   "metadata": {},
   "source": [
    "##### Incrementing an Attribute's Value Through a Method"
   ]
  },
  {
   "cell_type": "code",
   "execution_count": null,
   "metadata": {},
   "outputs": [],
   "source": [
    "#this is also a setter \n",
    "#see happyBirthday method above"
   ]
  },
  {
   "cell_type": "markdown",
   "metadata": {},
   "source": [
    "##### In-Class Exercise #3 - Add a method that takes in three parameters of year, doors and seats and prints out a formatted print statement with make, model, year, seats, and doors"
   ]
  },
  {
   "cell_type": "code",
   "execution_count": null,
   "metadata": {},
   "outputs": [],
   "source": [
    "# Create class with 2 paramters inside of the __init__ which are make and model\n",
    "\n",
    "# Inside of the Car class create a method that has 4 parameter in total (self,year,door,seats)\n",
    "\n",
    "# Output: This car is from 2019 and is a Ford Expolorer and has 4 doors and 5 seats\n",
    "\n",
    "class Car():\n",
    "    def __init__(self, make, model):\n",
    "        self.make = make\n",
    "        self.model = model\n",
    "        \n",
    "    def "
   ]
  },
  {
   "cell_type": "markdown",
   "metadata": {},
   "source": [
    "## Inheritance <br>\n",
    "<p>You can create a child-parent relationship between two classes by using inheritance. What this allows you to do is have overriding methods, but also inherit traits from the parent class. Think of it as an actual parent and child, the child will inherit the parent's genes, as will the classes in OOP</p>"
   ]
  },
  {
   "cell_type": "markdown",
   "metadata": {},
   "source": [
    "##### Syntax for Inheriting from a Parent Class"
   ]
  },
  {
   "cell_type": "code",
   "execution_count": 51,
   "metadata": {},
   "outputs": [
    {
     "name": "stdout",
     "output_type": "stream",
     "text": [
      "..\n",
      "<class '__main__.Animal'>\n",
      "Fluffy\n",
      "..\n",
      "<class '__main__.Dog'>\n",
      "Garfield\n",
      "....\n",
      "<class '__main__.Cat'>\n",
      "True\n",
      "meow\n"
     ]
    },
    {
     "data": {
      "text/plain": [
       "'..'"
      ]
     },
     "execution_count": 51,
     "metadata": {},
     "output_type": "execute_result"
    }
   ],
   "source": [
    "#parent\n",
    "class Animal():\n",
    "    def __init__(self, name, species='',legs=4):\n",
    "        self.name = name\n",
    "        self.species = species \n",
    "        self.legs = legs\n",
    "    def sniff(self):\n",
    "        return \"..\"\n",
    "    \n",
    "    \n",
    "    \n",
    "#children\n",
    "class Dog(Animal):\n",
    "    def __init__(self, name, species='canine',legs=4, isCute = True, isClean = False):\n",
    "        Animal.__init__(self, name, species, legs)\n",
    "        self.isCute = isCute\n",
    "        self.isClean = isClean:\n",
    "            \n",
    "        \n",
    "        \n",
    "class Cat(Animal):\n",
    "    def __init__(self, name, species='feline',legs=4, isCute = True, isClean = True):\n",
    "        super().__init__(name, species, legs)\n",
    "        self.isCute = isCute\n",
    "        self.isClean = isClean\n",
    "        \n",
    "    def sniff(self):\n",
    "        return'....'\n",
    "    \n",
    "    def meow(self):\n",
    "        print('meow')\n",
    "\n",
    "a1 = Animal('shoha','Human', 2)\n",
    "print(a1.sniff())\n",
    "print(type(a1))\n",
    "\n",
    "\n",
    "d1 = Dog('Fluffy', 'Canine')\n",
    "print(d1.name)\n",
    "print(d1.sniff())\n",
    "print(type(d1))\n",
    "\n",
    "c1 = Cat('Garfield')\n",
    "print(c1.name)\n",
    "print(c1.sniff())\n",
    "print(type(c1))\n",
    "print(c1.isCute)\n",
    "c1.meow()\n",
    "\n",
    "#these 2 are doing the same thing\n",
    "Dog.sniff(d1)\n",
    "d1.sniff() #this is the most common / best way of using a class method\n",
    "\n"
   ]
  },
  {
   "cell_type": "markdown",
   "metadata": {},
   "source": [
    "##### The \\__init\\__() Method for a Child Class - super()"
   ]
  },
  {
   "cell_type": "code",
   "execution_count": null,
   "metadata": {
    "scrolled": true
   },
   "outputs": [],
   "source": [
    "# See above "
   ]
  },
  {
   "cell_type": "markdown",
   "metadata": {},
   "source": [
    "##### Defining Attributes and Methods for the Child Class"
   ]
  },
  {
   "cell_type": "code",
   "execution_count": null,
   "metadata": {},
   "outputs": [],
   "source": [
    "# See Above"
   ]
  },
  {
   "cell_type": "markdown",
   "metadata": {},
   "source": [
    "##### Method Overriding"
   ]
  },
  {
   "cell_type": "code",
   "execution_count": null,
   "metadata": {},
   "outputs": [],
   "source": [
    "# See Above"
   ]
  },
  {
   "cell_type": "markdown",
   "metadata": {},
   "source": [
    "## Classes as Attributes <br>\n",
    "<p>Classes can also be used as attributes within another class. This is useful in situations where you need to keep variables locally stored, instead of globally stored.</p>"
   ]
  },
  {
   "cell_type": "code",
   "execution_count": 11,
   "metadata": {},
   "outputs": [
    {
     "ename": "TypeError",
     "evalue": "__init__() takes 1 positional argument but 2 were given",
     "output_type": "error",
     "traceback": [
      "\u001b[1;31m---------------------------------------------------------------------------\u001b[0m",
      "\u001b[1;31mTypeError\u001b[0m                                 Traceback (most recent call last)",
      "Input \u001b[1;32mIn [11]\u001b[0m, in \u001b[0;36m<cell line: 15>\u001b[1;34m()\u001b[0m\n\u001b[0;32m     12\u001b[0m     \u001b[38;5;28;01mdef\u001b[39;00m \u001b[38;5;21mprintInfo\u001b[39m(\u001b[38;5;28mself\u001b[39m):\n\u001b[0;32m     13\u001b[0m         \u001b[38;5;28;01mreturn\u001b[39;00m \u001b[38;5;124mf\u001b[39m\u001b[38;5;124m'\u001b[39m\u001b[38;5;124mThis is a \u001b[39m\u001b[38;5;132;01m{\u001b[39;00m\u001b[38;5;28mself\u001b[39m\u001b[38;5;241m.\u001b[39myear\u001b[38;5;132;01m}\u001b[39;00m\u001b[38;5;124m \u001b[39m\u001b[38;5;132;01m{\u001b[39;00m\u001b[38;5;28mself\u001b[39m\u001b[38;5;241m.\u001b[39mmake\u001b[38;5;132;01m}\u001b[39;00m\u001b[38;5;124m \u001b[39m\u001b[38;5;132;01m{\u001b[39;00m\u001b[38;5;28mself\u001b[39m\u001b[38;5;241m.\u001b[39mmodel\u001b[38;5;132;01m}\u001b[39;00m\u001b[38;5;124m and has a \u001b[39m\u001b[38;5;132;01m{\u001b[39;00m\u001b[38;5;28mself\u001b[39m\u001b[38;5;241m.\u001b[39mbattey\u001b[38;5;241m.\u001b[39mvolts\u001b[38;5;132;01m}\u001b[39;00m\u001b[38;5;124m volt battery\u001b[39m\u001b[38;5;124m'\u001b[39m\n\u001b[1;32m---> 15\u001b[0m b \u001b[38;5;241m=\u001b[39m \u001b[43mBattery\u001b[49m\u001b[43m(\u001b[49m\u001b[38;5;241;43m10\u001b[39;49m\u001b[43m)\u001b[49m\n\u001b[0;32m     17\u001b[0m c\u001b[38;5;241m=\u001b[39m Car(\u001b[38;5;124m'\u001b[39m\u001b[38;5;124mSuzuki\u001b[39m\u001b[38;5;124m'\u001b[39m,\u001b[38;5;124m'\u001b[39m\u001b[38;5;124mGrand Vitara\u001b[39m\u001b[38;5;124m'\u001b[39m, \u001b[38;5;241m1999\u001b[39m,b)\n\u001b[0;32m     19\u001b[0m c\u001b[38;5;241m.\u001b[39mbattery\n",
      "\u001b[1;31mTypeError\u001b[0m: __init__() takes 1 positional argument but 2 were given"
     ]
    }
   ],
   "source": [
    "class Battery():\n",
    "    def __init__(self):\n",
    "        self.volts = 7.8\n",
    "        self.cells = 0\n",
    "class Car():\n",
    "    def __init(self, make, model, year, battery):\n",
    "        self.make = make\n",
    "        self.model = model\n",
    "        self.year = year\n",
    "        self.battery = battery\n",
    "        \n",
    "    def printInfo(self):\n",
    "        return f'This is a {self.year} {self.make} {self.model} and has a {self.battey.volts} volt battery'\n",
    "    \n",
    "b = Battery(10)\n",
    "\n",
    "c= Car('Suzuki','Grand Vitara', 1999,b)\n",
    "\n",
    "c.battery"
   ]
  },
  {
   "cell_type": "markdown",
   "metadata": {},
   "source": [
    "# Exercises"
   ]
  },
  {
   "cell_type": "markdown",
   "metadata": {},
   "source": [
    "### Exercise 1 - Turn the shopping cart program from yesterday into an object-oriented program\n",
    "\n",
    "The comments in the cell below are there as a guide for thinking about the problem. However, if you feel a different way is best for you and your own thought process, please do what feels best for you by all means."
   ]
  },
  {
   "cell_type": "code",
   "execution_count": 20,
   "metadata": {},
   "outputs": [
    {
     "name": "stdout",
     "output_type": "stream",
     "text": [
      "Empty Shopping Cart. If you would like to add items, type 'add', if you would like to quit, type 'quit' add\n",
      "What would you like to add to your shopping cart? carrot\n",
      "How many would you like to add? 1\n",
      "Shopping Cart: You can 'show', 'add', 'delete', 'clear', or 'quit': show\n",
      "carrot: 1\n",
      "Shopping Cart: You can 'show', 'add', 'delete', 'clear', or 'quit': delete\n",
      "carrot\n",
      "What would you like to delete from your cart? carrot\n",
      "carrot deleted!\n",
      "Empty Shopping Cart. If you would like to add items, type 'add', if you would like to quit, type 'quit' show\n",
      "You haven't added any items yet! Try adding first.\n",
      "Empty Shopping Cart. If you would like to add items, type 'add', if you would like to quit, type 'quit' quit\n",
      "Are you sure? You'll lose your entire cart. Type 'yes' or 'no': no\n",
      "What would you like to do?\n",
      "Empty Shopping Cart. If you would like to add items, type 'add', if you would like to quit, type 'quit' add\n",
      "What would you like to add to your shopping cart? apple\n",
      "How many would you like to add? 2\n",
      "Shopping Cart: You can 'show', 'add', 'delete', 'clear', or 'quit': add\n",
      "What would you like to add to your shopping cart? butter\n",
      "How many would you like to add? 1\n",
      "Shopping Cart: You can 'show', 'add', 'delete', 'clear', or 'quit': show\n",
      "apple: 2\n",
      "butter: 1\n",
      "Shopping Cart: You can 'show', 'add', 'delete', 'clear', or 'quit': clear\n",
      "Are you sure? Type 'yes' or 'no'. yes\n",
      "Cart Cleared!\n",
      "Empty Shopping Cart. If you would like to add items, type 'add', if you would like to quit, type 'quit' quit\n",
      "Are you sure? You'll lose your entire cart. Type 'yes' or 'no': yes\n",
      "Exiting Shopping List.\n"
     ]
    }
   ],
   "source": [
    "# Create a class called cart that retains items and has methods to add, remove, and show\n",
    "\n",
    "class ShoppingCart():\n",
    "\n",
    "    def __init__(self, items = {}):\n",
    "        self.items = items\n",
    "    def add(self, dict):\n",
    "        item = input(\"What would you like to add to your shopping cart? \").lower()\n",
    "        if item in dict:\n",
    "            update = input(f'You already have {item} in your cart! Would you like to update the quanity? ').lower()\n",
    "            if update == \"yes\":\n",
    "                amount = input(\"New quanitity: \")\n",
    "                dict[item] = amount\n",
    "                print(\"Updated\")\n",
    "            elif update == \"no\":\n",
    "                print(\"Okay\")\n",
    "            elif update != \"yes\" or update != \"no\":\n",
    "                print(\"Sorry, try again.\")\n",
    "        else:\n",
    "            quantity = input(\"How many would you like to add? \")\n",
    "            dict[item] = quantity\n",
    "\n",
    "    def startMessage(self, dict):\n",
    "        if len(dict.items()) == 0:\n",
    "            command = input(\"Empty Shopping Cart. If you would like to add items, type 'add', if you would like to quit, type 'quit' \")\n",
    "        else:\n",
    "            command = input(\"Shopping Cart: You can 'show', 'add', 'delete', 'clear', or 'quit': \").lower()\n",
    "        return command\n",
    "\n",
    "    def quit(self):\n",
    "        response = input(\"Are you sure? You'll lose your entire cart. Type 'yes' or 'no': \").lower()\n",
    "        if response == \"yes\":\n",
    "            print(\"Exiting Shopping List.\")\n",
    "        elif response == \"no\":\n",
    "            print(\"What would you like to do?\")\n",
    "        else:\n",
    "            print(\"Sorry, try again\")\n",
    "\n",
    "        return response\n",
    "\n",
    "    def show(self, dict):\n",
    "    \n",
    "        for key, value in dict.items():\n",
    "                    print(f'{key}: {value}')\n",
    "\n",
    "    def delete(self, dict):\n",
    "    \n",
    "        for i in dict.keys():\n",
    "            print(i)\n",
    "        grocery_to_delete = input(\"What would you like to delete from your cart? \")\n",
    "        if grocery_to_delete not in dict.keys():\n",
    "            print(\"Sorry, try again.\")\n",
    "        else:\n",
    "            dict.pop(grocery_to_delete)\n",
    "            print(f'{grocery_to_delete} deleted!')\n",
    "\n",
    "    def clear(self, dict):\n",
    "    \n",
    "        confirmation = input(\"Are you sure? Type 'yes' or 'no'. \").lower()\n",
    "        if confirmation == \"yes\":\n",
    "            dict.clear()\n",
    "            print(\"Cart Cleared!\")\n",
    "        elif confirmation == \"no\":\n",
    "            print(\"Good call.\")\n",
    "        else:\n",
    "            print(\"Sorry, try again.\")\n",
    "\n",
    "    def goShopping(self):\n",
    "    \n",
    "        commands = [\"show\", \"add\", \"delete\", \"clear\", \"quit\"]\n",
    "\n",
    "        while True:\n",
    "\n",
    "            command = self.startMessage(self.items)\n",
    "            \n",
    "            if command not in commands:\n",
    "                print(f'{command.title()} isn\\'t a valid response! Try again.')\n",
    "            elif command == \"quit\":\n",
    "                if self.quit() == \"yes\":\n",
    "                    break\n",
    "            elif command in commands and command != \"add\" and command != \"quit\" and len(self.items.items()) == 0:\n",
    "                print(\"You haven't added any items yet! Try adding first.\")\n",
    "            elif command == \"add\":\n",
    "                self.add(self.items)\n",
    "            elif command == \"show\":\n",
    "                self.show(self.items)\n",
    "            elif command == \"delete\":\n",
    "                self.delete(self.items)\n",
    "            elif command == \"clear\":\n",
    "                self.clear(self.items)\n",
    "store = ShoppingCart()\n",
    "store.goShopping()"
   ]
  },
  {
   "cell_type": "markdown",
   "metadata": {},
   "source": [
    "### Exercise 2 - Write a Python class which has two methods get_String and print_String. get_String accept a string from the user and print_String print the string in upper case"
   ]
  },
  {
   "cell_type": "code",
   "execution_count": 21,
   "metadata": {},
   "outputs": [
    {
     "name": "stdout",
     "output_type": "stream",
     "text": [
      "STRING GIVEN DURING INIT\n",
      "Set a new string: apples are yummy\n",
      "APPLES ARE YUMMY\n"
     ]
    }
   ],
   "source": [
    "class Strings():\n",
    "\n",
    "    def __init__(self, string):\n",
    "        self.string = string\n",
    "\n",
    "    def get_String(self):\n",
    "        self.string = input(\"Set a new string: \")\n",
    "\n",
    "    def print_String(self):\n",
    "        print(self.string.upper())\n",
    "\n",
    "example = Strings(\"String given during init\")\n",
    "example.print_String()\n",
    "example.get_String()\n",
    "example.print_String()"
   ]
  }
 ],
 "metadata": {
  "kernelspec": {
   "display_name": "Python 3 (ipykernel)",
   "language": "python",
   "name": "python3"
  },
  "language_info": {
   "codemirror_mode": {
    "name": "ipython",
    "version": 3
   },
   "file_extension": ".py",
   "mimetype": "text/x-python",
   "name": "python",
   "nbconvert_exporter": "python",
   "pygments_lexer": "ipython3",
   "version": "3.9.12"
  }
 },
 "nbformat": 4,
 "nbformat_minor": 2
}
